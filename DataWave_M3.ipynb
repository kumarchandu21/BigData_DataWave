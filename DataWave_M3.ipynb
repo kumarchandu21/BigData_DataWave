{
 "cells": [
  {
   "cell_type": "code",
   "execution_count": 2,
   "id": "bf8066e2-b100-4564-98ff-7a986eb606a5",
   "metadata": {},
   "outputs": [
    {
     "name": "stdout",
     "output_type": "stream",
     "text": [
      "root\n",
      " |-- _c0: string (nullable = true)\n",
      " |-- id: string (nullable = true)\n",
      " |-- title: string (nullable = true)\n",
      " |-- release_date: string (nullable = true)\n",
      " |-- genres: string (nullable = true)\n",
      " |-- original_language: string (nullable = true)\n",
      " |-- vote_average: string (nullable = true)\n",
      " |-- vote_count: string (nullable = true)\n",
      " |-- popularity: double (nullable = true)\n",
      " |-- overview: string (nullable = true)\n",
      " |-- budget: string (nullable = true)\n",
      " |-- production_companies: string (nullable = true)\n",
      " |-- revenue: string (nullable = true)\n",
      " |-- runtime: string (nullable = true)\n",
      " |-- tagline: string (nullable = true)\n",
      "\n"
     ]
    }
   ],
   "source": [
    "from pyspark.sql import SparkSession\n",
    "\n",
    "\n",
    "spark = SparkSession.builder.appName(\"MovieRatingPrediction\").getOrCreate()\n",
    "\n",
    "\n",
    "movie_df= spark.read.csv('movie.csv', inferSchema =True, header=True)\n",
    "\n",
    "\n",
    "\n",
    "movie_df.printSchema()\n"
   ]
  },
  {
   "cell_type": "code",
   "execution_count": 4,
   "id": "9a949738-e2f2-4abe-a18d-a47447d7525d",
   "metadata": {},
   "outputs": [
    {
     "name": "stdout",
     "output_type": "stream",
     "text": [
      "+--------------------+------------+----------+\n",
      "|               title|vote_average|vote_count|\n",
      "+--------------------+------------+----------+\n",
      "|BTS: Permission t...|         9.1|       143|\n",
      "|Spider-Man: Acros...|         8.8|      1160|\n",
      "|Folklore: The Lon...|         8.7|       116|\n",
      "|       The Godfather|         8.7|     18076|\n",
      "|The Shawshank Red...|         8.7|     23935|\n",
      "|The Godfather Par...|         8.6|     10913|\n",
      "|    Schindler's List|         8.6|     14153|\n",
      "|Dilwale Dulhania ...|         8.6|      4147|\n",
      "|Franco Escamilla:...|         8.6|        77|\n",
      "|            Rubius X|         8.6|       136|\n",
      "+--------------------+------------+----------+\n",
      "\n"
     ]
    }
   ],
   "source": [
    "from pyspark.sql.functions import col\n",
    "\n",
    "top_rated_movies = movie_df.filter(col(\"vote_count\") > 50) \\\n",
    "                           .orderBy(col(\"vote_average\").desc()) \\\n",
    "                           .select(\"title\", \"vote_average\", \"vote_count\") \\\n",
    "                           .limit(10)\n",
    "\n",
    "top_rated_movies.show()\n",
    "\n"
   ]
  },
  {
   "cell_type": "code",
   "execution_count": 12,
   "id": "f8dec8b0-fe7a-409e-b16e-b34ce15580a7",
   "metadata": {},
   "outputs": [
    {
     "name": "stdout",
     "output_type": "stream",
     "text": [
      "+--------------------+--------------+\n",
      "|              genres|average_rating|\n",
      "+--------------------+--------------+\n",
      "|['TOHO', 'Kyokuic...|         100.0|\n",
      "|['Romance', 'Anim...|           8.5|\n",
      "|['Romance', 'Anim...|           8.5|\n",
      "|['Fantasy', 'Dram...|           8.5|\n",
      "|['Animation', 'Ac...|           8.3|\n",
      "|['Animation', 'Th...|           8.3|\n",
      "|['TV Movie', 'Ani...|           8.3|\n",
      "|['Family', 'Anima...|           8.3|\n",
      "|['Animation', 'Ac...|           8.3|\n",
      "|['Adventure', 'Fa...|           8.3|\n",
      "|['Animation', 'Fa...|           8.3|\n",
      "|['Family', 'Roman...|           8.3|\n",
      "|['Animation', 'Fa...|           8.3|\n",
      "|['Drama', 'Fantas...|           8.2|\n",
      "|['Animation', 'Fa...|           8.2|\n",
      "|['Comedy', 'Anima...|           8.2|\n",
      "|['Animation', 'Co...|           8.2|\n",
      "|['Fantasy', 'Acti...|           8.2|\n",
      "|['Animation', 'Fa...|           8.2|\n",
      "|['Animation', 'TV...|           8.2|\n",
      "+--------------------+--------------+\n",
      "only showing top 20 rows\n",
      "\n"
     ]
    }
   ],
   "source": [
    "from pyspark.sql.functions import avg\n",
    "\n",
    "avg_rating_per_genre = movie_df.groupBy(\"genres\") \\\n",
    "                               .agg(avg(\"vote_average\").alias(\"average_rating\")) \\\n",
    "                               .orderBy(\"average_rating\", ascending=False)  # Order by average rating\n",
    "\n",
    "avg_rating_per_genre.show()\n",
    "\n",
    "\n"
   ]
  },
  {
   "cell_type": "code",
   "execution_count": 14,
   "id": "733c8203-7cea-4862-8d44-21a1a406d87b",
   "metadata": {},
   "outputs": [
    {
     "name": "stdout",
     "output_type": "stream",
     "text": [
      "+--------------------+----------+\n",
      "|               title|popularity|\n",
      "+--------------------+----------+\n",
      "|               Roger| 4000000.0|\n",
      "|              Fast X|  8363.473|\n",
      "|John Wick: Chapter 4|  4210.313|\n",
      "|The Super Mario B...|  3394.458|\n",
      "|Spider-Man: Acros...|  2859.047|\n",
      "|            Hypnotic|  2654.854|\n",
      "|Transformers: Ris...|  2453.807|\n",
      "|     The Black Demon|    1777.2|\n",
      "|  The Little Mermaid|   1448.64|\n",
      "|Avatar: The Way o...|  1344.884|\n",
      "+--------------------+----------+\n",
      "\n"
     ]
    }
   ],
   "source": [
    "most_popular_movies = movie_df.orderBy(col(\"popularity\").desc()) \\\n",
    "                              .select(\"title\", \"popularity\") \\\n",
    "                              .limit(10)\n",
    "\n",
    "most_popular_movies.show()\n",
    "\n",
    "\n"
   ]
  },
  {
   "cell_type": "code",
   "execution_count": 19,
   "id": "fec8483b-89b1-46bc-b055-e2170ffcad43",
   "metadata": {},
   "outputs": [
    {
     "name": "stdout",
     "output_type": "stream",
     "text": [
      "+--------------------+----------+\n",
      "|               title|vote_count|\n",
      "+--------------------+----------+\n",
      "|           Labor Day|       999|\n",
      "|A Tale of Two Sis...|       999|\n",
      "|Final Fantasy VII...|       999|\n",
      "|  Jackass Number Two|       999|\n",
      "|    Now You See Me 2|      9982|\n",
      "|         Top Secret!|       997|\n",
      "|           The Saint|       997|\n",
      "|            Die Hard|      9961|\n",
      "|            Bandidas|       996|\n",
      "|          Four Lions|       996|\n",
      "+--------------------+----------+\n",
      "\n"
     ]
    }
   ],
   "source": [
    "highest_vote_count_movies = movie_df.orderBy(col(\"vote_count\").desc()) \\\n",
    "                                    .select(\"title\", \"vote_count\") \\\n",
    "                                    .limit(10)\n",
    "\n",
    "highest_vote_count_movies.show()\n",
    "\n",
    "\n"
   ]
  },
  {
   "cell_type": "code",
   "execution_count": 22,
   "id": "3c9b1390-c5ef-4282-95a8-9d72e9514b01",
   "metadata": {},
   "outputs": [
    {
     "name": "stdout",
     "output_type": "stream",
     "text": [
      "+--------------------+----------+\n",
      "|               title|popularity|\n",
      "+--------------------+----------+\n",
      "|BTS: Permission t...|    16.289|\n",
      "|Spider-Man: Acros...|  2859.047|\n",
      "|Folklore: The Lon...|    12.354|\n",
      "|       The Godfather|   110.377|\n",
      "|The Shawshank Red...|    69.056|\n",
      "|The Godfather Par...|     54.99|\n",
      "|    Schindler's List|    43.117|\n",
      "|Dilwale Dulhania ...|    26.908|\n",
      "|Franco Escamilla:...|    16.977|\n",
      "|            Rubius X|    14.658|\n",
      "+--------------------+----------+\n",
      "\n"
     ]
    }
   ],
   "source": [
    "top_rated_movies_with_popularity = movie_df.filter(col(\"vote_count\") > 50) \\\n",
    "                                           .orderBy(col(\"vote_average\").desc()) \\\n",
    "                                           .select(\"title\", \"popularity\") \\\n",
    "                                           .limit(10)\n",
    "\n",
    "top_rated_movies_with_popularity.show()\n",
    "\n"
   ]
  },
  {
   "cell_type": "code",
   "execution_count": 25,
   "id": "ea1b5a46-0425-4604-8fae-8940be3a148a",
   "metadata": {},
   "outputs": [
    {
     "name": "stdout",
     "output_type": "stream",
     "text": [
      "+-----------------+------------------+\n",
      "|original_language|    average_rating|\n",
      "+-----------------+------------------+\n",
      "|           Hebrew|               7.7|\n",
      "|          Persian|               7.7|\n",
      "|          Kannada|               7.7|\n",
      "|            Irish|               7.6|\n",
      "|          Bosnian|               7.5|\n",
      "|         Dzongkha|               7.4|\n",
      "|               sh|               7.3|\n",
      "|        Malayalam|               7.2|\n",
      "|         Romanian|               7.0|\n",
      "|          Swedish| 6.959259259259259|\n",
      "|           Danish| 6.953846153846153|\n",
      "|          Turkish| 6.800000000000002|\n",
      "|         Japanese|6.7049773755656155|\n",
      "|            Khmer|               6.6|\n",
      "|          Serbian|               6.6|\n",
      "|       Macedonian|               6.6|\n",
      "|        Hungarian|               6.6|\n",
      "|        Ukrainian|             6.575|\n",
      "|           German|6.5034090909090905|\n",
      "|          Catalan|               6.5|\n",
      "+-----------------+------------------+\n",
      "only showing top 20 rows\n",
      "\n"
     ]
    }
   ],
   "source": [
    "from pyspark.sql.functions import col\n",
    "\n",
    "\n",
    "valid_languages = movie_df.filter(col(\"original_language\").rlike(\"^[a-zA-Z]+$\"))\n",
    "\n",
    "\n",
    "avg_rating_per_language = valid_languages.groupBy(\"original_language\") \\\n",
    "                                         .agg(avg(\"vote_average\").alias(\"average_rating\")) \\\n",
    "                                         .orderBy(\"average_rating\", ascending=False)\n",
    "\n",
    "avg_rating_per_language.show()\n",
    "\n",
    "\n",
    "\n"
   ]
  },
  {
   "cell_type": "code",
   "execution_count": null,
   "id": "6dea36cf-81cd-42f7-8f9b-0c28820bc5db",
   "metadata": {},
   "outputs": [],
   "source": [
    "import os\n",
    "\n",
    "\n",
    "graphs_folder_path = os.path.expanduser('~/Documents/graphs')\n",
    "\n",
    "\n",
    "if not os.path.exists(graphs_folder_path):\n",
    "    os.makedirs(graphs_folder_path)\n",
    "\n",
    "\n",
    "top_rated_movies.write.csv(os.path.join(graphs_folder_path, \"top_rated_movies.csv\"), header=True)\n",
    "\n",
    "\n",
    "avg_rating_per_genre.write.csv(os.path.join(graphs_folder_path, \"avg_rating_per_genre.csv\"), header=True)\n",
    "\n",
    "\n",
    "most_popular_movies.write.csv(os.path.join(graphs_folder_path, \"most_popular_movies.csv\"), header=True)\n",
    "\n",
    "\n",
    "popularity_rating.write.csv(os.path.join(graphs_folder_path, \"popularity_rating.csv\"), header=True)\n",
    "\n",
    "\n",
    "highest_vote_count_movies.write.csv(os.path.join(graphs_folder_path, \"highest_vote_count_movies.csv\"), header=True)\n",
    "\n",
    "\n",
    "top_rated_movies_with_popularity.write.csv(os.path.join(graphs_folder_path, \"top_rated_movies_with_popularity.csv\"), header=True)\n",
    "\n",
    "\n",
    "avg_rating_per_language.write.csv(os.path.join(graphs_folder_path, \"avg_rating_per_language.csv\"), header=True)\n",
    "\n"
   ]
  },
  {
   "cell_type": "code",
   "execution_count": null,
   "id": "38235aaa-961c-4efa-bd46-ff7d928e8ddc",
   "metadata": {},
   "outputs": [],
   "source": []
  }
 ],
 "metadata": {
  "kernelspec": {
   "display_name": "Python 3 (ipykernel)",
   "language": "python",
   "name": "python3"
  },
  "language_info": {
   "codemirror_mode": {
    "name": "ipython",
    "version": 3
   },
   "file_extension": ".py",
   "mimetype": "text/x-python",
   "name": "python",
   "nbconvert_exporter": "python",
   "pygments_lexer": "ipython3",
   "version": "3.12.2"
  }
 },
 "nbformat": 4,
 "nbformat_minor": 5
}
